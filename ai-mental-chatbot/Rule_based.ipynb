{
 "cells": [
  {
   "cell_type": "code",
   "execution_count": null,
   "metadata": {
    "id": "C4ZJBL6Y08Me",
    "tags": []
   },
   "outputs": [],
   "source": [
    "import pandas as pd\n",
    "import nltk \n",
    "import re\n",
    "import numpy as np\n",
    "from tkinter import *\n",
    "\n",
    "from nltk.stem import wordnet                                  # to perform lemmitization\n",
    "from sklearn.feature_extraction.text import CountVectorizer    # to perform bow\n",
    "from sklearn.feature_extraction.text import TfidfVectorizer    # to perform tfidf\n",
    "from nltk import pos_tag                                       # for parts of speech\n",
    "from sklearn.metrics import pairwise_distances                 # to perfrom cosine similarity\n",
    "from nltk import word_tokenize                                 # to create tokens\n",
    "from nltk.corpus import stopwords                              # for stop words"
   ]
  },
  {
   "cell_type": "code",
   "execution_count": null,
   "metadata": {
    "colab": {
     "base_uri": "https://localhost:8080/",
     "height": 203
    },
    "id": "Iibn50pd1mab",
    "outputId": "583e8d39-2c2b-42f9-e3dd-2b3656fadad4",
    "scrolled": true,
    "tags": []
   },
   "outputs": [],
   "source": [
    "df = pd.read_csv(\"MHData.csv\", nrows = 20)#setting df as the data MHData\n",
    "df.head()#showing Df"
   ]
  },
  {
   "cell_type": "code",
   "execution_count": null,
   "metadata": {
    "colab": {
     "base_uri": "https://localhost:8080/"
    },
    "id": "kmGaGT3mTPAw",
    "outputId": "19240647-6bda-46b6-f346-62501e3d0844"
   },
   "outputs": [],
   "source": [
    "df.isnull().sum() #finding empty values "
   ]
  },
  {
   "cell_type": "code",
   "execution_count": null,
   "metadata": {
    "colab": {
     "base_uri": "https://localhost:8080/"
    },
    "id": "DM0bO0b03dD2",
    "outputId": "611344d0-9c7c-4606-877a-48761278d876"
   },
   "outputs": [],
   "source": [
    "nltk.download('punkt')                   \n",
    "   \n",
    "s = 'please tell me about your personality'\n",
    "words = word_tokenize(s)                    # tokenize words #seperating words based on spaces \n",
    "print(words)"
   ]
  },
  {
   "cell_type": "code",
   "execution_count": null,
   "metadata": {
    "colab": {
     "base_uri": "https://localhost:8080/",
     "height": 71
    },
    "id": "82lHgG0d3rBH",
    "outputId": "3f158b02-f7f5-4656-dbe4-cbe0c8713180",
    "tags": []
   },
   "outputs": [],
   "source": [
    "nltk.download('wordnet')\n",
    "nltk.download('omw-1.4')                  \n",
    "lemma = wordnet.WordNetLemmatizer()         \n",
    "lemma.lemmatize('absorbed', pos = 'v')        # lemmatize words"
   ]
  },
  {
   "cell_type": "code",
   "execution_count": null,
   "metadata": {
    "colab": {
     "base_uri": "https://localhost:8080/"
    },
    "id": "jEw94aKZ3zvz",
    "outputId": "68c7fa09-ed14-4388-d8e9-5765567786b8"
   },
   "outputs": [],
   "source": [
    " nltk.download('averaged_perceptron_tagger')     \n",
    "pos_tag(nltk.word_tokenize(s),tagset = None)       # returns the parts of speech of every word"
   ]
  },
  {
   "cell_type": "code",
   "execution_count": null,
   "metadata": {
    "colab": {
     "base_uri": "https://localhost:8080/"
    },
    "id": "T-BDv4Yj4Ngc",
    "outputId": "acd49f9f-0e2d-4e8f-824d-16f1b5ba5c1f"
   },
   "outputs": [],
   "source": [
    " nltk.download('stopwords')           \n",
    "\n",
    "stop = stopwords.words('english')\n",
    "print(stop)"
   ]
  },
  {
   "cell_type": "code",
   "execution_count": null,
   "metadata": {},
   "outputs": [],
   "source": [
    "nltk.download('wordnet')"
   ]
  },
  {
   "cell_type": "code",
   "execution_count": null,
   "metadata": {
    "id": "QmrI6JPL39US"
   },
   "outputs": [],
   "source": [
    "# function that performs text normalization steps and returns the lemmatized tokens as a sentence\n",
    "\n",
    "def text_normalization(text):\n",
    "    text = str(text).lower()                        # text to lower case\n",
    "    spl_char_text = re.sub(r'[^ a-z]','',text)      # removing special characters\n",
    "    tokens = nltk.word_tokenize(spl_char_text)      # word tokenizing\n",
    "    lema = wordnet.WordNetLemmatizer()              # intializing lemmatization\n",
    "    tags_list = pos_tag(tokens,tagset=None)         # parts of speech\n",
    "    lema_words = []                                 # empty list \n",
    "    for token,pos_token in tags_list:               # lemmatize according to POS\n",
    "        if pos_token.startswith('V'):               # Verb\n",
    "            pos_val = 'v'\n",
    "        elif pos_token.startswith('J'):             # Adjective\n",
    "            pos_val = 'a'\n",
    "        elif pos_token.startswith('R'):             # Adverb\n",
    "            pos_val = 'r'\n",
    "        else:\n",
    "            pos_val = 'n'                           # Noun\n",
    "        lema_token = lema.lemmatize(token,pos_val)\n",
    "\n",
    "        if lema_token in stop: \n",
    "          lema_words.append(lema_token)             # appending the lemmatized token into a list\n",
    "    \n",
    "    return \" \".join(lema_words) "
   ]
  },
  {
   "cell_type": "code",
   "execution_count": null,
   "metadata": {
    "scrolled": true
   },
   "outputs": [],
   "source": [
    "nltk.download('omw-1.4')"
   ]
  },
  {
   "cell_type": "code",
   "execution_count": null,
   "metadata": {
    "colab": {
     "base_uri": "https://localhost:8080/",
     "height": 36
    },
    "id": "jyvzid3c4A2x",
    "outputId": "29b0810a-2849-4fc7-9a72-3ea416432385",
    "scrolled": true
   },
   "outputs": [],
   "source": [
    "text_normalization('telling you some stuffs about me')  # example"
   ]
  },
  {
   "cell_type": "code",
   "execution_count": null,
   "metadata": {
    "colab": {
     "base_uri": "https://localhost:8080/",
     "height": 237
    },
    "id": "CXPVFcd64EIo",
    "outputId": "ab3c646a-ceef-47d8-c2b1-b51271ea48ff",
    "scrolled": true
   },
   "outputs": [],
   "source": [
    "df['lemmatized_text'] = df['Questions'].apply(text_normalization)   # clean text\n",
    "df.head(5)"
   ]
  },
  {
   "cell_type": "code",
   "execution_count": null,
   "metadata": {
    "id": "GRpLiLLR4T58"
   },
   "outputs": [],
   "source": [
    "cv = CountVectorizer()                                  # intializing the count vectorizer\n",
    "X = cv.fit_transform(df['lemmatized_text']).toarray()"
   ]
  },
  {
   "cell_type": "code",
   "execution_count": null,
   "metadata": {
    "colab": {
     "base_uri": "https://localhost:8080/",
     "height": 223
    },
    "id": "HKDdHYo04XG9",
    "outputId": "caf8de83-10c9-47c7-bf7a-4178db9a77e0"
   },
   "outputs": [],
   "source": [
    "# returns all the unique word from data \n",
    "\n",
    "features = cv.get_feature_names()\n",
    "df_bow = pd.DataFrame(X, columns = features)\n",
    "df_bow.head()"
   ]
  },
  {
   "cell_type": "code",
   "execution_count": null,
   "metadata": {
    "id": "CMh7mfw0PH1q"
   },
   "outputs": [],
   "source": [
    "Question = 'What treatment options are available'                           # example"
   ]
  },
  {
   "cell_type": "code",
   "execution_count": null,
   "metadata": {
    "id": "ErwQk4Jf4iSY"
   },
   "outputs": [],
   "source": [
    "Question_lemma = text_normalization(Question)                               # clean text\n",
    "Question_bow = cv.transform([Question_lemma]).toarray()                     # applying bow"
   ]
  },
  {
   "cell_type": "code",
   "execution_count": null,
   "metadata": {
    "colab": {
     "base_uri": "https://localhost:8080/"
    },
    "id": "SWylluoYA6O0",
    "outputId": "d68d6d22-7971-4f83-8567-6ff231a8ccc7"
   },
   "outputs": [],
   "source": [
    "# cosine similarity for the above question we considered.\n",
    "\n",
    "cosine_value = 1- pairwise_distances(df_bow, Question_bow, metric = 'cosine' )\n",
    "(cosine_value)"
   ]
  },
  {
   "cell_type": "code",
   "execution_count": null,
   "metadata": {
    "id": "9BlKaaezA8s_"
   },
   "outputs": [],
   "source": [
    "df['similarity_bow'] = cosine_value                                         # create cosine value as a new column"
   ]
  },
  {
   "cell_type": "code",
   "execution_count": null,
   "metadata": {
    "colab": {
     "base_uri": "https://localhost:8080/",
     "height": 665
    },
    "id": "ja0_jD4iA_NW",
    "outputId": "4dcbb27b-2b02-4408-ed4a-5f6100e10acb"
   },
   "outputs": [],
   "source": [
    "simiscores = pd.DataFrame(df, columns=['Answers','similarity_bow'])         # taking similarity value of responses for the question we took\n",
    "simiscores"
   ]
  },
  {
   "cell_type": "code",
   "execution_count": null,
   "metadata": {
    "colab": {
     "base_uri": "https://localhost:8080/",
     "height": 203
    },
    "id": "8NwdGoDGBRwi",
    "outputId": "7387fc5a-ec4a-4bd1-d35a-4cae4b3893a1"
   },
   "outputs": [],
   "source": [
    "simscoresDescending = simiscores.sort_values(by = 'similarity_bow', ascending=False)          # sorting the values\n",
    "simscoresDescending.head()"
   ]
  },
  {
   "cell_type": "code",
   "execution_count": null,
   "metadata": {
    "colab": {
     "base_uri": "https://localhost:8080/",
     "height": 357
    },
    "id": "Yt6jgDc5BY-m",
    "outputId": "77d5bb00-be7f-4673-dc65-4a16ab96fe24"
   },
   "outputs": [],
   "source": [
    "threshold = 0.1                                                                         # considering the value of smiliarity to be greater than 0.1\n",
    "df_threshold = simscoresDescending[simscoresDescending['similarity_bow'] > threshold] \n",
    "df_threshold"
   ]
  },
  {
   "cell_type": "code",
   "execution_count": null,
   "metadata": {
    "colab": {
     "base_uri": "https://localhost:8080/"
    },
    "id": "uFgAg8EnBkey",
    "outputId": "8f5764b0-3f9b-4bfe-b684-00dd6407d159"
   },
   "outputs": [],
   "source": [
    "index_value = cosine_value.argmax()         # index number of highest value\n",
    "index_value"
   ]
  },
  {
   "cell_type": "code",
   "execution_count": null,
   "metadata": {
    "colab": {
     "base_uri": "https://localhost:8080/",
     "height": 36
    },
    "id": "IcCqWPu7Bn8I",
    "outputId": "58e18516-71cf-48b7-9120-29ef19669bc0"
   },
   "outputs": [],
   "source": [
    "df['Answers'].loc[index_value]              # The text at the above index becomes the response for the question"
   ]
  },
  {
   "cell_type": "code",
   "execution_count": null,
   "metadata": {
    "id": "O3WMQ7YBByib"
   },
   "outputs": [],
   "source": [
    "Question1 = 'What treatment options are available'"
   ]
  },
  {
   "cell_type": "code",
   "execution_count": null,
   "metadata": {
    "id": "yxGhvUqsB96d"
   },
   "outputs": [],
   "source": [
    "# using tf-idf\n",
    "\n",
    "tfidf = TfidfVectorizer()                                             # intializing tf-id \n",
    "x_tfidf = tfidf.fit_transform(df['lemmatized_text']).toarray()        # transforming the data into array"
   ]
  },
  {
   "cell_type": "code",
   "execution_count": null,
   "metadata": {
    "id": "Njbou1tyCAVm"
   },
   "outputs": [],
   "source": [
    "Question_lemma1 = text_normalization(Question1)\n",
    "Question_tfidf = tfidf.transform([Question_lemma1]).toarray()         # applying tf-idf"
   ]
  },
  {
   "cell_type": "code",
   "execution_count": null,
   "metadata": {
    "colab": {
     "base_uri": "https://localhost:8080/",
     "height": 223
    },
    "id": "10YovQFdCJ1h",
    "outputId": "adf1fd58-a2dc-45ff-8b6f-2f2d7a0c5e75"
   },
   "outputs": [],
   "source": [
    "# returns all the unique word from data with a score of that word\n",
    "\n",
    "df_tfidf = pd.DataFrame(x_tfidf,columns = tfidf.get_feature_names()) \n",
    "df_tfidf.head()"
   ]
  },
  {
   "cell_type": "code",
   "execution_count": null,
   "metadata": {
    "colab": {
     "base_uri": "https://localhost:8080/"
    },
    "id": "IEAPLV2mCWAY",
    "outputId": "cb74e6eb-7c00-4afd-e571-a191c13bfe72"
   },
   "outputs": [],
   "source": [
    "cos = 1-pairwise_distances(df_tfidf,Question_tfidf,metric='cosine')                     # applying cosine similarity\n",
    "cos"
   ]
  },
  {
   "cell_type": "code",
   "execution_count": null,
   "metadata": {
    "colab": {
     "base_uri": "https://localhost:8080/",
     "height": 665
    },
    "id": "5saQViVjCXng",
    "outputId": "94e722f4-7084-480e-a4ae-6b3f0f8ae340"
   },
   "outputs": [],
   "source": [
    "df['similarity_tfidf'] = cos                                                    # creating a new column \n",
    "df_simi_tfidf = pd.DataFrame(df, columns=['Answers','similarity_tfidf'])        # taking similarity value of responses for the question we took\n",
    "df_simi_tfidf"
   ]
  },
  {
   "cell_type": "code",
   "execution_count": null,
   "metadata": {
    "colab": {
     "base_uri": "https://localhost:8080/",
     "height": 357
    },
    "id": "f1rs3m98CfR9",
    "outputId": "13c7b88e-ffbf-4095-8e5a-7a5a768400d5"
   },
   "outputs": [],
   "source": [
    "df_simi_tfidf_sort = df_simi_tfidf.sort_values(by='similarity_tfidf', ascending=False)            # sorting the values\n",
    "df_simi_tfidf_sort.head(10)"
   ]
  },
  {
   "cell_type": "code",
   "execution_count": null,
   "metadata": {
    "colab": {
     "base_uri": "https://localhost:8080/",
     "height": 357
    },
    "id": "Bc3fzoRqCjYC",
    "outputId": "aae31ced-faf3-40e1-fc9a-9ed44db0dc59"
   },
   "outputs": [],
   "source": [
    "threshold = 0.1                                                                                   # considering the value of smiliarity to be greater than 0.1\n",
    "df_threshold = df_simi_tfidf_sort[df_simi_tfidf_sort['similarity_tfidf'] > threshold] \n",
    "df_threshold"
   ]
  },
  {
   "cell_type": "code",
   "execution_count": null,
   "metadata": {
    "colab": {
     "base_uri": "https://localhost:8080/"
    },
    "id": "Un2v35qzCn6X",
    "outputId": "6eb29949-231c-4e17-e58d-3c5b118ae540"
   },
   "outputs": [],
   "source": [
    "threshold = 0.1                                                                                   # considering the value of smiliarity to be greater than 0.1\n",
    "df_threshold = df_simi_tfidf_sort[df_simi_tfidf_sort['similarity_tfidf'] > threshold] \n",
    "df_threshold"
   ]
  },
  {
   "cell_type": "code",
   "execution_count": null,
   "metadata": {
    "colab": {
     "base_uri": "https://localhost:8080/",
     "height": 36
    },
    "id": "4C0KLnatCuH9",
    "outputId": "2f342730-6261-47ea-d7f0-4784b9291107"
   },
   "outputs": [],
   "source": [
    "df['Answers'].loc[index_value]                                               # returns the text at that index"
   ]
  },
  {
   "cell_type": "code",
   "execution_count": null,
   "metadata": {
    "id": "ri3aOkDVC34P"
   },
   "outputs": [],
   "source": [
    "# defining a function that returns response to query using bow\n",
    "\n",
    "def chat_bow(text):\n",
    "    lemma = text_normalization(text) # calling the function to perform text normalization\n",
    "    bow = cv.transform([lemma]).toarray() # applying bow\n",
    "    cosine_value = 1- pairwise_distances(df_bow,bow, metric = 'cosine' )\n",
    "    index_value = cosine_value.argmax() # getting index value \n",
    "    return df['Answers'].loc[index_value]"
   ]
  },
  {
   "cell_type": "code",
   "execution_count": null,
   "metadata": {
    "colab": {
     "base_uri": "https://localhost:8080/",
     "height": 36
    },
    "id": "kfGihw_jC8Fz",
    "outputId": "6107a3f9-a491-4bf7-ba51-fdc907324f4c"
   },
   "outputs": [],
   "source": [
    "chat_bow('can you prevent mental health problems')"
   ]
  },
  {
   "cell_type": "code",
   "execution_count": null,
   "metadata": {
    "colab": {
     "base_uri": "https://localhost:8080/",
     "height": 36
    },
    "id": "5p5rATqPDl1o",
    "outputId": "5978404a-c27f-4277-f70c-89e879dab764"
   },
   "outputs": [],
   "source": [
    "chat_bow('what is mental health')"
   ]
  },
  {
   "cell_type": "code",
   "execution_count": null,
   "metadata": {
    "colab": {
     "base_uri": "https://localhost:8080/",
     "height": 36
    },
    "id": "j2pjkWnvD5d5",
    "outputId": "25bf5afe-13d4-42f2-d758-a0fe34a2d6d8"
   },
   "outputs": [],
   "source": [
    "chat_bow('are there cures for mental health problems')"
   ]
  },
  {
   "cell_type": "code",
   "execution_count": null,
   "metadata": {
    "colab": {
     "base_uri": "https://localhost:8080/",
     "height": 36
    },
    "id": "mdnxBzdgDrFw",
    "outputId": "13991a7f-4890-4113-bf0c-39b3104396b4"
   },
   "outputs": [],
   "source": [
    "chat_bow('how do I know if i am unwell')"
   ]
  },
  {
   "cell_type": "code",
   "execution_count": null,
   "metadata": {
    "colab": {
     "base_uri": "https://localhost:8080/",
     "height": 36
    },
    "id": "JHv1q2t_EETl",
    "outputId": "80cccda1-d2b7-4b73-9bee-26ebda4014e9"
   },
   "outputs": [],
   "source": [
    "chat_bow('what do you mean by mental health')"
   ]
  },
  {
   "cell_type": "code",
   "execution_count": null,
   "metadata": {
    "id": "kWCumn0vELvd"
   },
   "outputs": [],
   "source": [
    "# defining a function that returns response to query using tf-idf\n",
    "\n",
    "def chatbot(text):\n",
    "    lemma = text_normalization(text) # calling the function to perform text normalization\n",
    "    tf = tfidf.transform([lemma]).toarray() # applying tf-idf\n",
    "    cos = 1-pairwise_distances(df_tfidf,tf,metric='cosine') # applying cosine similarity\n",
    "    index_value = cos.argmax() # getting index value \n",
    "    return df['Answers'].loc[index_value]"
   ]
  },
  {
   "cell_type": "code",
   "execution_count": null,
   "metadata": {},
   "outputs": [],
   "source": [
    "chatbot('i am feeling sad')"
   ]
  },
  {
   "cell_type": "code",
   "execution_count": null,
   "metadata": {},
   "outputs": [],
   "source": [
    "chatbot('how to know if i am depresed')"
   ]
  },
  {
   "cell_type": "code",
   "execution_count": null,
   "metadata": {},
   "outputs": [],
   "source": [
    "chatbot('i am feeling unwell')\n",
    "\n",
    "\n",
    "chatbot('how to know if i am depresed')"
   ]
  },
  {
   "cell_type": "code",
   "execution_count": null,
   "metadata": {},
   "outputs": [],
   "source": []
  },
  {
   "cell_type": "code",
   "execution_count": null,
   "metadata": {},
   "outputs": [],
   "source": []
  },
  {
   "cell_type": "code",
   "execution_count": null,
   "metadata": {},
   "outputs": [],
   "source": []
  },
  {
   "cell_type": "code",
   "execution_count": null,
   "metadata": {},
   "outputs": [],
   "source": []
  },
  {
   "cell_type": "code",
   "execution_count": null,
   "metadata": {},
   "outputs": [],
   "source": []
  }
 ],
 "metadata": {
  "colab": {
   "collapsed_sections": [],
   "name": "Rule based",
   "provenance": [],
   "toc_visible": true
  },
  "kernelspec": {
   "display_name": "Python 3 (ipykernel)",
   "language": "python",
   "name": "python3"
  },
  "language_info": {
   "codemirror_mode": {
    "name": "ipython",
    "version": 3
   },
   "file_extension": ".py",
   "mimetype": "text/x-python",
   "name": "python",
   "nbconvert_exporter": "python",
   "pygments_lexer": "ipython3",
   "version": "3.10.2"
  }
 },
 "nbformat": 4,
 "nbformat_minor": 4
}
